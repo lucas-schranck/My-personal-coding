{
 "cells": [
  {
   "cell_type": "code",
   "execution_count": 2,
   "id": "3dd3b102",
   "metadata": {},
   "outputs": [
    {
     "data": {
      "text/plain": [
       "'\\nWrite a function: def solution(S) that, \\ngiven a string S consisting of N letters, \\nreturns the distance between the two identical \\ndigrams in the string that lie furthest awway from each other. \\nIf there are no two identical digrams inside S, your function should return -1\\n'"
      ]
     },
     "execution_count": 2,
     "metadata": {},
     "output_type": "execute_result"
    }
   ],
   "source": [
    "\"\"\"\n",
    "Write a function: def solution(S) that, \n",
    "given a string S consisting of N letters, \n",
    "returns the distance between the two identical \n",
    "digrams in the string that lie furthest awway from each other. \n",
    "If there are no two identical digrams inside S, your function should return -1\n",
    "\"\"\""
   ]
  },
  {
   "cell_type": "code",
   "execution_count": 3,
   "id": "1f7a517e",
   "metadata": {},
   "outputs": [],
   "source": [
    "def solution(S):\n",
    "    digram_positions = {}\n",
    "    max_distance = -1\n",
    "    \n",
    "    for i in range(len(S)-1):\n",
    "        digram = S[i:i+2]\n",
    "        if digram in digram_positions:\n",
    "            distance = i - digram_positions[digram]\n",
    "            if distance > max_distance:\n",
    "                max_distance = distance\n",
    "        else:\n",
    "            digram_positions[digram] = i\n",
    "    \n",
    "    return max_distance"
   ]
  },
  {
   "cell_type": "code",
   "execution_count": 5,
   "id": "99d99f49",
   "metadata": {},
   "outputs": [],
   "source": [
    "# 1. We initialize an empty dictionary digram_positions to store the positions of each digram encountered in the string S.\n",
    "# 2. We also initialize max_distance to -1, which will be updated whenever we find a new pair of identical digrams with a greater distance.\n",
    "# 3. We iterate over each index i in the range from 0 to len(S)-1.\n",
    "# 4. At each iteration, we extract the current digram by slicing S from index i to i+2.\n",
    "# 5. If the current digram is already present in digram_positions, we calculate the distance between the current index i and the previous occurrence of the digram stored in digram_positions[digram].\n",
    "# 6. If this distance is greater than max_distance, we update max_distance.\n",
    "# 7. If the current digram is not present in digram_positions, we add it to the dictionary along with its position i.\n",
    "# 8. Finally, we return the maximum distance found between identical digrams. If no such pair is found, the function returns -1."
   ]
  },
  {
   "cell_type": "code",
   "execution_count": 6,
   "id": "c6459b0e",
   "metadata": {},
   "outputs": [
    {
     "name": "stdout",
     "output_type": "stream",
     "text": [
      "5\n",
      "-1\n",
      "6\n"
     ]
    }
   ],
   "source": [
    "# Example usage\n",
    "\n",
    "print(solution(\"hellohello\"))  # Output: 5\n",
    "print(solution(\"abcde\"))       # Output: -1\n",
    "print(solution(\"abbabbabb\"))   # Output: 6"
   ]
  },
  {
   "cell_type": "code",
   "execution_count": null,
   "id": "21433672",
   "metadata": {},
   "outputs": [],
   "source": [
    "# 1. In the first example, the string \"hellohello\" contains two identical digrams \"ll\". The distance between the first occurrence at index 2 and the second occurrence at index 7 is 5, so the function returns 5.\n",
    "# 2. In the second example, there are no identical digrams in the string \"abcde\", so the function returns -1.\n",
    "# 3. In the third example, the string \"abbabbabb\" contains three identical digrams \"bb\". The distance between the first occurrence at index 1 and the third occurrence at index 7 is 6, which is the maximum distance, so the function returns 6."
   ]
  }
 ],
 "metadata": {
  "kernelspec": {
   "display_name": "Python 3 (ipykernel)",
   "language": "python",
   "name": "python3"
  },
  "language_info": {
   "codemirror_mode": {
    "name": "ipython",
    "version": 3
   },
   "file_extension": ".py",
   "mimetype": "text/x-python",
   "name": "python",
   "nbconvert_exporter": "python",
   "pygments_lexer": "ipython3",
   "version": "3.9.7"
  }
 },
 "nbformat": 4,
 "nbformat_minor": 5
}
