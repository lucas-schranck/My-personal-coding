{
 "cells": [
  {
   "cell_type": "code",
   "execution_count": null,
   "id": "46c18d46",
   "metadata": {},
   "outputs": [],
   "source": [
    "# I'll try and create an organization automatization for teachers versus classes"
   ]
  },
  {
   "cell_type": "code",
   "execution_count": 1,
   "id": "8815a31c",
   "metadata": {},
   "outputs": [],
   "source": [
    "import pandas as pd"
   ]
  },
  {
   "cell_type": "code",
   "execution_count": 4,
   "id": "46edcd1e",
   "metadata": {},
   "outputs": [],
   "source": [
    "# Create an empty DataFrame to store teacher availability\n",
    "teacher_df = pd.DataFrame(columns=['Teacher', 'Morning', 'Afternoon', 'Evening'])"
   ]
  },
  {
   "cell_type": "code",
   "execution_count": 5,
   "id": "5bf8f8bf",
   "metadata": {},
   "outputs": [
    {
     "name": "stdout",
     "output_type": "stream",
     "text": [
      "Enter teacher name: Lucas S\n",
      "Enter availability for morning (y/n): y\n",
      "Enter availability for afternoon (y/n): n\n",
      "Enter availability for evening (y/n): n\n",
      "Do you want to add another teacher? (y/n): y\n",
      "Enter teacher name: Lucas M\n",
      "Enter availability for morning (y/n): y\n",
      "Enter availability for afternoon (y/n): y\n",
      "Enter availability for evening (y/n): n\n",
      "Do you want to add another teacher? (y/n): y\n",
      "Enter teacher name: Claudio\n",
      "Enter availability for morning (y/n): n\n",
      "Enter availability for afternoon (y/n): y\n",
      "Enter availability for evening (y/n): y\n",
      "Do you want to add another teacher? (y/n): y\n",
      "Enter teacher name: Leia\n",
      "Enter availability for morning (y/n): y\n",
      "Enter availability for afternoon (y/n): n\n",
      "Enter availability for evening (y/n): y\n",
      "Do you want to add another teacher? (y/n): y\n",
      "Enter teacher name: Luana\n",
      "Enter availability for morning (y/n): n\n",
      "Enter availability for afternoon (y/n): y\n",
      "Enter availability for evening (y/n): y\n",
      "Do you want to add another teacher? (y/n): n\n"
     ]
    }
   ],
   "source": [
    "# Prompt for teacher availability\n",
    "while True:\n",
    "    teacher_name = input(\"Enter teacher name: \")\n",
    "    morning_avail = input(\"Enter availability for morning (y/n): \").lower() == 'y'\n",
    "    afternoon_avail = input(\"Enter availability for afternoon (y/n): \").lower() == 'y'\n",
    "    evening_avail = input(\"Enter availability for evening (y/n): \").lower() == 'y'\n",
    "    \n",
    "    # Add teacher availability to DataFrame\n",
    "    teacher_df = teacher_df.append({'Teacher': teacher_name,\n",
    "                                    'Morning': morning_avail,\n",
    "                                    'Afternoon': afternoon_avail,\n",
    "                                    'Evening': evening_avail},\n",
    "                                   ignore_index=True)\n",
    "\n",
    "    add_another = input(\"Do you want to add another teacher? (y/n): \").lower()\n",
    "    if add_another != 'y':\n",
    "        break"
   ]
  },
  {
   "cell_type": "code",
   "execution_count": 6,
   "id": "4b085d31",
   "metadata": {},
   "outputs": [],
   "source": [
    "# Create an empty DataFrame to store class schedule\n",
    "class_df = pd.DataFrame(columns=['Class', 'Day', 'Time'])"
   ]
  },
  {
   "cell_type": "code",
   "execution_count": 7,
   "id": "25db34d0",
   "metadata": {},
   "outputs": [
    {
     "name": "stdout",
     "output_type": "stream",
     "text": [
      "Enter class name: Class1\n",
      "Enter class day: Monday\n",
      "Enter class time (e.g., 9am, 2pm): 8am\n",
      "Do you want to add another class? (y/n): y\n",
      "Enter class name: Class2\n",
      "Enter class day: Tuesday\n",
      "Enter class time (e.g., 9am, 2pm): 10am\n",
      "Do you want to add another class? (y/n): y\n",
      "Enter class name: Class3\n",
      "Enter class day: Wednesday\n",
      "Enter class time (e.g., 9am, 2pm): 1pm\n",
      "Do you want to add another class? (y/n): y\n",
      "Enter class name: Class4\n",
      "Enter class day: Monday\n",
      "Enter class time (e.g., 9am, 2pm): 2pm\n",
      "Do you want to add another class? (y/n): y\n",
      "Enter class name: Class5\n",
      "Enter class day: Wednesday\n",
      "Enter class time (e.g., 9am, 2pm): 7pm\n",
      "Do you want to add another class? (y/n): n\n"
     ]
    }
   ],
   "source": [
    "# Prompt for class schedule\n",
    "while True:\n",
    "    class_name = input(\"Enter class name: \")\n",
    "    day = input(\"Enter class day: \")\n",
    "    time = input(\"Enter class time (e.g., 9am, 2pm): \")\n",
    "\n",
    "    # Add class schedule to DataFrame\n",
    "    class_df = class_df.append({'Class': class_name,\n",
    "                                'Day': day,\n",
    "                                'Time': time},\n",
    "                               ignore_index=True)\n",
    "\n",
    "    add_another = input(\"Do you want to add another class? (y/n): \").lower()\n",
    "    if add_another != 'y':\n",
    "        break"
   ]
  },
  {
   "cell_type": "code",
   "execution_count": 8,
   "id": "51d06daa",
   "metadata": {},
   "outputs": [],
   "source": [
    "# Create a new Excel file\n",
    "filename = 'teacher_class_schedule.xlsx'\n",
    "writer = pd.ExcelWriter(filename, engine='xlsxwriter')"
   ]
  },
  {
   "cell_type": "code",
   "execution_count": 9,
   "id": "31f0bcb7",
   "metadata": {},
   "outputs": [],
   "source": [
    "# Define colors for teacher names\n",
    "colors = ['#FFC000', '#00B0F0', '#92D050', '#FF0000', '#7030A0']"
   ]
  },
  {
   "cell_type": "code",
   "execution_count": 10,
   "id": "b6a9cd60",
   "metadata": {},
   "outputs": [],
   "source": [
    "# Iterate over teachers and assign classes based on availability\n",
    "for i, teacher in enumerate(teacher_df['Teacher']):\n",
    "    teacher_classes = class_df.sample(frac=1).reset_index(drop=True)  # Shuffle classes\n",
    "\n",
    "    # Filter classes based on teacher availability\n",
    "    teacher_classes = teacher_classes[teacher_classes['Day'].isin(teacher_classes['Day'])]\n",
    "    if teacher_df.at[i, 'Morning'] is False:\n",
    "        teacher_classes = teacher_classes[~teacher_classes['Time'].str.contains('am')]\n",
    "    if teacher_df.at[i, 'Afternoon'] is False:\n",
    "        teacher_classes = teacher_classes[~teacher_classes['Time'].str.contains('pm')]\n",
    "\n",
    "    # Assign colors to teacher names in the Excel file\n",
    "    teacher_color = colors[i % len(colors)]\n",
    "    teacher_df.at[i, 'Teacher'] = f'=COLOR(\"{teacher_color}\"){teacher}'\n",
    "\n",
    "    # Write teacher-class assignment to Excel file\n",
    "    teacher_classes.to_excel(writer, sheet_name=teacher, index=False)"
   ]
  },
  {
   "cell_type": "code",
   "execution_count": 11,
   "id": "c27d9869",
   "metadata": {},
   "outputs": [
    {
     "name": "stdout",
     "output_type": "stream",
     "text": [
      "Teacher-class assignments saved in 'teacher_class_schedule.xlsx'.\n"
     ]
    },
    {
     "name": "stderr",
     "output_type": "stream",
     "text": [
      "D:\\Users\\User\\anaconda3\\lib\\site-packages\\xlsxwriter\\workbook.py:338: UserWarning: Calling close() on already closed file.\n",
      "  warn(\"Calling close() on already closed file.\")\n"
     ]
    }
   ],
   "source": [
    "# Save and close the Excel file\n",
    "writer.save()\n",
    "writer.close()\n",
    "\n",
    "print(f\"Teacher-class assignments saved in '{filename}'.\")"
   ]
  },
  {
   "cell_type": "code",
   "execution_count": null,
   "id": "e5d74c5e",
   "metadata": {},
   "outputs": [],
   "source": [
    "# 1. Make sure to have the pandas and xlsxwriter libraries installed in your Python environment before running this code. \n",
    "# 2. You can install them using the following command:\n",
    "#    R: pip install pandas xlsxwriter\n",
    "# 3. When you run the code, it will prompt you to enter teacher availability and class schedules. \n",
    "# 4. After gathering the input, it will generate an Excel file named \"teacher_class_schedule.xlsx\""
   ]
  }
 ],
 "metadata": {
  "kernelspec": {
   "display_name": "Python 3 (ipykernel)",
   "language": "python",
   "name": "python3"
  },
  "language_info": {
   "codemirror_mode": {
    "name": "ipython",
    "version": 3
   },
   "file_extension": ".py",
   "mimetype": "text/x-python",
   "name": "python",
   "nbconvert_exporter": "python",
   "pygments_lexer": "ipython3",
   "version": "3.9.7"
  }
 },
 "nbformat": 4,
 "nbformat_minor": 5
}
